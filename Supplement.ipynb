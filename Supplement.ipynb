{
 "metadata": {
  "name": "",
  "signature": "sha256:914cb3e14a40dfc3e63a35facf61dfeaaf3e7a7f575407564a0086a52f80b90e"
 },
 "nbformat": 3,
 "nbformat_minor": 0,
 "worksheets": [
  {
   "cells": [
    {
     "cell_type": "markdown",
     "metadata": {},
     "source": [
      "#Supplementary data file for GBE submission"
     ]
    },
    {
     "cell_type": "markdown",
     "metadata": {},
     "source": [
      "The code and data underlying this analysis is available from https://github.com/dwinter/Tt_MA_supplement\n",
      "\n",
      "In the course of analysing the _Tetrahymena_ MA experiment we noticed a strange pattern.\n",
      "\n",
      "A large number of apparent-mutations are shared by lines 47 and 51 (i.e. the same nucleotide substitution is present in both lines and absent from all others). Our \"post processing\" utility prints out read count matrices for such sites, here is a typical example of a \"double mutant\". Here each row represents the number of A,C,G and T bases mapped to this site in a given sample:\n",
      "```\n",
      "Skipping scf_8254582    675126\n",
      "        A       C       G       T\n",
      "TtM0    0       78      0       0       \n",
      "TtM19   0       59      0       0       \n",
      "TtM20   0       30      0       0       \n",
      "TtM28   1       80      0       0       \n",
      "TtM25   2       44      0       0       \n",
      "TtM29   0       30      0       0       \n",
      "TtM40   0       19      0       0       \n",
      "TtM44   0       170     0       0       \n",
      "TtM47   46      18      0       0       \n",
      "TtM50   0       172     0       0       \n",
      "TtM51   42      0       0       0       \n",
      "TtM531  0       83      0       0 \n",
      "```\n",
      "\n",
      "This is  typical in that one sample (47) has a minor portion of reads matching the ancestral (M0) allele while the rest match the apparent-mutant in 47. This document records and exploratory analysis of our data that investigates these two lines in particular. \n",
      "\n",
      "##Setup\n",
      "The next cell clears the `namespace` of this notebook, and imports all the libraries needed to perform the analyses below."
     ]
    },
    {
     "cell_type": "code",
     "collapsed": false,
     "input": [
      "%reset -f\n",
      "\n",
      "import itertools\n",
      "from collections import defaultdict\n",
      "from collections import Counter\n",
      "\n",
      "import vcf\n",
      "\n",
      "from scipy import cluster\n",
      "from scipy import spatial\n",
      "\n",
      "import pandas as pd\n",
      "\n",
      "import Bio\n",
      "from Bio import SeqIO\n",
      "%pylab inline\n",
      "\n",
      "print \"_______Versions_______\"\n",
      "print \"pyvcf:\",vcf.VERSION\n",
      "print \"pandas:\", pd.__version__\n",
      "print \"biopython:\", Bio.__version__\n",
      "! bedtools --version\n",
      "\n",
      "#Make plots a bit bigger than the default\n",
      "import matplotlib.pylab as pylab\n",
      "pylab.rcParams['figure.figsize'] = 8, 5"
     ],
     "language": "python",
     "metadata": {},
     "outputs": [
      {
       "output_type": "stream",
       "stream": "stdout",
       "text": [
        "Loading MoreUtils\n",
        "Populating the interactive namespace from numpy and matplotlib"
       ]
      },
      {
       "output_type": "stream",
       "stream": "stdout",
       "text": [
        "\n",
        "_______Versions_______\n",
        "pyvcf: 0.6.8\n",
        "pandas: 0.17.1\n",
        "biopython: 1.66\n"
       ]
      },
      {
       "output_type": "stream",
       "stream": "stdout",
       "text": [
        "bedtools v2.18.2-56-gb5e5070\r\n"
       ]
      }
     ],
     "prompt_number": 1
    },
    {
     "cell_type": "markdown",
     "metadata": {},
     "source": [
      "##Lines 47 and 51 have similar derrived allele frequencies"
     ]
    },
    {
     "cell_type": "markdown",
     "metadata": {},
     "source": [
      "We first want to test of the similarity of 47 and 51 to each other (and difference from all other samples) extends beyond the small number of sites with putative mutations. To do this, we called variants from the experimental data using `gatk UnifiedGenotyper`. To properly capture the \"mixed\" genotypes described for line 47 above, we treated each sample as diploid and didn't filter any putative variants out:\n",
      "\n",
      "```sh\n",
      "gatk -R [path to reference] -T UnifiedGenotyper \\\n",
      "     -I [path to bam] #reads are [SRA IDS]      \\\n",
      "     -o desc_diploid_calls.vcf --sample_ploidy 2 -nct 4 -nt 8\n",
      "\n",
      "```\n",
      "\n",
      "This procedure calls all putative variants from the experimental data. Thus, the resultant `vcf` will have potentially heterozygous sites from the ancestral strain and artifacts produced from misalignment of reads  associated with paralogy or copy number variation. Thus there will be many more apparent-variants produced than real mutations, allowing us to examine these patterns an a much broader scale. There are more than 80 000 such sites in our experiment:"
     ]
    },
    {
     "cell_type": "code",
     "collapsed": false,
     "input": [
      "#loaded as list as we will iterate over these many times\n",
      "snps = [r for r in vcf.Reader(filename=\"data/desc_diploid_calls.vcf\")]\n",
      "len(snps)"
     ],
     "language": "python",
     "metadata": {},
     "outputs": [
      {
       "metadata": {},
       "output_type": "pyout",
       "prompt_number": 2,
       "text": [
        "85146"
       ]
      }
     ],
     "prompt_number": 2
    },
    {
     "cell_type": "markdown",
     "metadata": {},
     "source": [
      "We are looking among-sample patterns in the reads mapped to each site. A straightforward way to investigate this is to extract the frequency of non-reference (\"derived\") alleles at each of the variant sites. Such derived alleles can represent real mutations, fixed (or heterozygous) differences between our ancestral strain and the reference genome or aberrant reads mapped to the genome. \n",
      "\n",
      "Here we define functions to extract this information from a `vcf` record and generate a `numpy` array with one row for each site and one column for each sample:"
     ]
    },
    {
     "cell_type": "code",
     "collapsed": false,
     "input": [
      "def get_sample_daf(s):    \n",
      "    if s.data.AD != None:\n",
      "        return sum(s.data.AD[1:])/float(s.data.DP)\n",
      "    return 0.0\n",
      "\n",
      "def get_daf(rec):\n",
      "    return np.fromiter( (get_sample_daf(s) for s in rec.samples), np.float64 )\n",
      "\n",
      "daf_matrix = np.array([get_daf(r) for r in snps])"
     ],
     "language": "python",
     "metadata": {},
     "outputs": [],
     "prompt_number": 3
    },
    {
     "cell_type": "markdown",
     "metadata": {},
     "source": [
      "Having collected the derived allele frequency data, we want to see if some samples share similar patterns. Perhaps the simplest way to do this is cluster samples based on their allele frequency. `scipy` provides functions to create pairwise-distance matrices (based on Euclidean distance between the vectors of allele frequencies for each sample) and generate a clustering (with UPGMA):"
     ]
    },
    {
     "cell_type": "code",
     "collapsed": false,
     "input": [
      "sample_names = [s.sample for s in snps[0].samples]\n",
      "dm = spatial.distance.pdist(np.transpose(daf_matrix))\n",
      "tree = cluster.hierarchy.dendrogram( cluster.hierarchy.linkage(dm), \n",
      "                                    labels=sample_names, \n",
      "                                    leaf_rotation =45)"
     ],
     "language": "python",
     "metadata": {},
     "outputs": [
      {
       "metadata": {},
       "output_type": "display_data",
       "png": "[encoded data removed]",
       "text": [
        "<matplotlib.figure.Figure at 0x7f383189ae50>"
       ]
      }
     ],
     "prompt_number": 4
    },
    {
     "cell_type": "markdown",
     "metadata": {},
     "source": [
      "\n",
      "There is clearly something very different about lines 47 and 51, which much more similar too each other than any other two-sample pairing, and form a distinct cluster considerably distant from all others. Both of these observations suggest something systematic has happened to these two lines to make them different from the others."
     ]
    },
    {
     "cell_type": "markdown",
     "metadata": {},
     "source": [
      "##There are many sites where only 47 and 51 lack derived alleles ...\n",
      "\n",
      "Much of the difference described above comes about because there are a large number of sites where only lines 47 and 51 _lack_ derived alleles while all other samples have at least one read containing a derived allele. Here is the total number of sites with this pattern:"
     ]
    },
    {
     "cell_type": "code",
     "collapsed": false,
     "input": [
      "mask_47_51 = np.array([x in [\"TtM47\", \"TtM51\"] for x in sample_names])\n",
      "sum( [(np.all(x[~mask_47_51]) > 0 and np.sum(x[ mask_47_51]) == 0) for x in daf_matrix] )"
     ],
     "language": "python",
     "metadata": {},
     "outputs": [
      {
       "metadata": {},
       "output_type": "pyout",
       "prompt_number": 5,
       "text": [
        "11559"
       ]
      }
     ],
     "prompt_number": 5
    },
    {
     "cell_type": "markdown",
     "metadata": {},
     "source": [
      "For the most part, these sites are not the result of all other lines being \"fixed\" for some non-reference allele. Rather the majority of sites have a mixture of reference and non-reference alleles at these. We can visualize this by created a stacked bar chart that describes the frequency of derived alleles across sites:"
     ]
    },
    {
     "cell_type": "code",
     "collapsed": false,
     "input": [
      "def daf_specturm_plot(daf_mat, row_mask=None,sample_names=sample_names):\n",
      "    \"\"\" \"\"\"\n",
      "    ramp = ['#3182bd', '#6baed6','#bdd7e7','#eff3ff'] #colourbrewer Blue5\n",
      "    cuts = [1e-9, 0.25, 0.5, 0.75,  1.0]\n",
      "    unmasked = np.transpose(daf_matrix[np.array(m)])\n",
      "    bins = np.array([n for n,edge in [np.histogram(x,bins=cuts) for x in unmasked]]).transpose()\n",
      "    start = np.sum(daf_matrix[np.array(m)] == 0,0)\n",
      "    f = figure()\n",
      "    ax = f.add_subplot(111)\n",
      "    p = bar(np.arange(10), start, color='#08519c',)\n",
      "    legends = [p[0]]\n",
      "    for i,c in enumerate(bins):\n",
      "        p =  bar(np.arange(10), c, color=ramp[i], bottom=start)\n",
      "        start += c\n",
      "        legends.append(p[0])\n",
      "    \n",
      "    legend(legends, \n",
      "           [\"0\", \"(0-0.25)\", \"[0.25-0.5)\", \"[0.5.0.75)\", \"[0.75-1]\"],\n",
      "           bbox_to_anchor=(1.4, 0.7),\n",
      "       title= \"Derrived allele frequency\")\n",
      "\n",
      "    ax.set_xticks(np.arange(10))\n",
      "    ax.set_xticklabels(sample_names, rotation=45)\n",
      "\n",
      "    show()"
     ],
     "language": "python",
     "metadata": {},
     "outputs": [],
     "prompt_number": 6
    },
    {
     "cell_type": "code",
     "collapsed": false,
     "input": [
      "m = np.array([(np.all(x[~mask_47_51]) > 0 and np.sum(x[mask_47_51]) == 0) for x in daf_matrix])\n",
      "daf_specturm_plot(daf_matrix, m)"
     ],
     "language": "python",
     "metadata": {},
     "outputs": [
      {
       "metadata": {},
       "output_type": "display_data",
       "png": "[encoded data removed]",
       "text": [
        "<matplotlib.figure.Figure at 0x7f38884bc610>"
       ]
      }
     ],
     "prompt_number": 7
    },
    {
     "cell_type": "markdown",
     "metadata": {},
     "source": [
      "##...and many other sites where only 47 and 51 _have_ derived alleles\n",
      "\n",
      "Al tough there are not quite as many, there are also a large number of sites that have the opposite pattern: lines 47 and 51 have derived alleles and all other lines are \"clean\""
     ]
    },
    {
     "cell_type": "code",
     "collapsed": false,
     "input": [
      "m = [(np.all(x[mask_47_51]) > 0 and np.sum(x[~mask_47_51]) == 0) for x in daf_matrix] \n",
      "sum(m)"
     ],
     "language": "python",
     "metadata": {},
     "outputs": [
      {
       "metadata": {},
       "output_type": "pyout",
       "prompt_number": 8,
       "text": [
        "1064"
       ]
      }
     ],
     "prompt_number": 8
    },
    {
     "cell_type": "markdown",
     "metadata": {},
     "source": [
      "Again, most of these sites are not 'fixed' for derived alleles in lines 47 and 51. Rather, they mostly have intermediate frequencies of derrived alleles:"
     ]
    },
    {
     "cell_type": "code",
     "collapsed": false,
     "input": [
      "daf_specturm_plot(daf_matrix, m)"
     ],
     "language": "python",
     "metadata": {},
     "outputs": [
      {
       "metadata": {},
       "output_type": "display_data",
       "png": "[encoded data removed]",
       "text": [
        "<matplotlib.figure.Figure at 0x7f3831840850>"
       ]
      }
     ],
     "prompt_number": 9
    },
    {
     "cell_type": "markdown",
     "metadata": {},
     "source": [
      "##There many more sites that seperate 47 and 51 from all others than any other combination"
     ]
    },
    {
     "cell_type": "markdown",
     "metadata": {},
     "source": [
      "We started investigating lines 47 and 51 because we already suspected something was strange about the data from these lines. To see how unusual it is that lines 47 and 51 share these patterns of missing (or uniquely present) derived alleles we can cacluate the number of sites showing such a pattern for all 2-sample combinations in our dataset:"
     ]
    },
    {
     "cell_type": "code",
     "collapsed": false,
     "input": [
      "def different_duo(x, sample_names=sample_names):\n",
      "    \"\"\"\n",
      "    For an array of allele frequences, if two and only two samples have frequencies of 0.0 \n",
      "    or if two and only two have frequences > 0 return the names of those samples\n",
      "    x = array of frequences\n",
      "    sample_names = list with each element being the name of a sample\n",
      "    \"\"\"\n",
      "    is_zero = x==0.0\n",
      "    if (sum(is_zero)==2):\n",
      "        return \"_\".join([sample_names[i] for i,b in enumerate(is_zero) if b])\n",
      "    if (sum(is_zero)==8):\n",
      "        return \"_\".join([sample_names[i] for i,b in enumerate(is_zero) if not b])\n",
      "    return None\n",
      "\n",
      "duo_count = Counter([different_duo(row) for row in daf_matrix if different_duo(row)])"
     ],
     "language": "python",
     "metadata": {},
     "outputs": [],
     "prompt_number": 10
    },
    {
     "cell_type": "code",
     "collapsed": false,
     "input": [
      "fig, ax = subplots()\n",
      "boxplot(duo_count.values())\n",
      "ax.annotate(\"47-51\", \n",
      "            xy=(1,duo_count[\"TtM47_TtM51\"]), \n",
      "            xytext=(1,duo_count[\"TtM47_TtM51\"]-1000))\n",
      "ax.annotate(\"All other sample-combinations\", xy=(1,1000), xytext=(1,1000))\n",
      "show()"
     ],
     "language": "python",
     "metadata": {},
     "outputs": [
      {
       "metadata": {},
       "output_type": "display_data",
       "png": "[encoded data removed]",
       "text": [
        "<matplotlib.figure.Figure at 0x7f38313e9210>"
       ]
      }
     ],
     "prompt_number": 11
    },
    {
     "cell_type": "markdown",
     "metadata": {},
     "source": [
      "Clearly lines 47 and 51 represent extereme outliers.\n",
      "\n",
      "##Sites that seperate 47 and 51 occur all over the genome\n",
      "\n",
      "So far, we have found that lines 47 and 51 differ from all samples in many more sites than any other pair of samples. To look further into this pattern we can see how sites in each of the classes we identified above (those for which 47 and 51 are unique in having derived alleles, and those ones where these samples are unique for not having derived alleles) are distributed across the genome. If this pattern is  restricted to one or of sites it may represent an event whcih occured in one or a few chromosomes. On the other hand, if the pattern effects sites across the genome then something more systematic may be at play.\n",
      "\n",
      "The reference genome for _T. thermophila_ is still unfinished, and contains many short contigs. Thus, a plot of \"site density\" that required a statistic like 'sites per 10kb' might not be that helpful. Rather, we can plot the rank-order of sites in each class against their position in a concatenated genome. If sites were evenly distributed across the genome we'd expect to get a straight line, if they are restricted to a few regions it will be much more jagged."
     ]
    },
    {
     "cell_type": "code",
     "collapsed": false,
     "input": [
      "#First identify sites matching each pattern\n",
      "def derrived_alleles_unique(rec, mask):\n",
      "    daf = get_daf(rec)\n",
      "    if np.all(daf[mask] > 0):\n",
      "        return sum(daf[~mask]) == 0\n",
      "    return False\n",
      "\n",
      "l47_51_only = [ r for r in snps if derrived_alleles_unique(r, mask_47_51)] \n",
      "others_only = [ r for r in snps if derrived_alleles_unique(r, ~mask_47_51)] "
     ],
     "language": "python",
     "metadata": {},
     "outputs": [],
     "prompt_number": 12
    },
    {
     "cell_type": "code",
     "collapsed": false,
     "input": [
      "#Now create a dictionary of chormosomes lengths from the reference genome\n",
      "total_len = 0\n",
      "seq_dict = {}\n",
      "for rec in SeqIO.parse(\"data/tt-ref.fasta\", \"fasta\"):\n",
      "    seq_len = len(rec)\n",
      "    seq_dict[rec.id] = (total_len, seq_len)\n",
      "    total_len += seq_len"
     ],
     "language": "python",
     "metadata": {},
     "outputs": [],
     "prompt_number": 15
    },
    {
     "cell_type": "code",
     "collapsed": false,
     "input": [
      "fig, ax = subplots(figsize=(8,7))\n",
      "ylabel(\"Position across genome\")\n",
      "xlabel(\"Rank order of mutation\")\n",
      "\n",
      "fig.add_subplot(211)\n",
      "plot([seq_dict[r.CHROM][0] + r.POS for r in l47_51_only])\n",
      "title(\"Unique to 47 and 51\")\n",
      "axhline(total_len, color=\"grey\")\n",
      "\n",
      "fig.add_subplot(212)\n",
      "plot([seq_dict[r.CHROM][0] + r.POS for r in others_only ])\n",
      "title(\"Shared by all samples other than 47 and 51\")\n",
      "axhline(total_len, color=\"grey\")\n",
      "fig.tight_layout()\n",
      "show()"
     ],
     "language": "python",
     "metadata": {},
     "outputs": [
      {
       "metadata": {},
       "output_type": "display_data",
       "png": "[encoded data removed]",
       "text": [
        "<matplotlib.figure.Figure at 0x7f382cead410>"
       ]
      }
     ],
     "prompt_number": 16
    },
    {
     "cell_type": "markdown",
     "metadata": {},
     "source": [
      "Sites where all samples other than 47 and 51 have at least one derrived allele are well distributed across the genome. Sites that have derived alleles in 47 and 51 only are a little more patchily distributed: there seem to be some long streches with no sites. It should be noted however, there are much fewer sites in this class.\n",
      "\n",
      "We can also see how many contigs have at least one site in each class, and what proportion of the reference genome is contained in affected contigs:"
     ]
    },
    {
     "cell_type": "code",
     "collapsed": false,
     "input": [
      "def effected_chroms(sites, genome_size=total_len):\n",
      "    included = set([(r.CHROM, seq_dict[r.CHROM][1]) for r in sites])\n",
      "    n = len(included )\n",
      "    p = sum([j for i,j in included])/float(total_len)\n",
      "    print \"{0} contigs contaning {1:.2f} of the genome\".format(n,p)\n",
      "    \n",
      "effected_chroms(l47_51_only)"
     ],
     "language": "python",
     "metadata": {},
     "outputs": [
      {
       "output_type": "stream",
       "stream": "stdout",
       "text": [
        "125 contigs contaning 0.26 of the genome\n"
       ]
      }
     ],
     "prompt_number": 17
    },
    {
     "cell_type": "code",
     "collapsed": false,
     "input": [
      "effected_chroms(others_only)"
     ],
     "language": "python",
     "metadata": {},
     "outputs": [
      {
       "output_type": "stream",
       "stream": "stdout",
       "text": [
        "479 contigs contaning 0.97 of the genome\n"
       ]
      }
     ],
     "prompt_number": 18
    },
    {
     "cell_type": "markdown",
     "metadata": {},
     "source": [
      "##Sites that separate 47 and 51 occur in 'clumps'\n",
      "\n",
      "The patterns that separate these two lines are  'global' in the sense they occur all over the genome. We can also looker at their distribution at a finer scale and ask if they \"clump together\". That is, are sites that fall into one of these classes likely to be close to another site of the same class (or alternatively to sites from the other class). \n",
      "\n",
      "To look at how close sites matching either pattern are to each other we will use `bedtools`, which is a command line program that takes interval (bed, vcf, gff...) files as input. so we need to first write out new vcf files for each \"class\" of sites:"
     ]
    },
    {
     "cell_type": "code",
     "collapsed": false,
     "input": [
      "def write_vcf(recs, fname, template=vcf.Reader(filename=\"data/desc_diploid_calls.vcf\")):\n",
      "    with(open(fname, \"w\")) as out:\n",
      "        vcf_out = vcf.Writer(out,template )\n",
      "        counter = 0\n",
      "        for r in recs:\n",
      "            vcf_out.write_record(r)\n",
      "            counter += 1\n",
      "    return counter\n",
      "\n",
      "print \"Wrote\", write_vcf(l47_51_only ,\"unique_4751.vcf\"), \"recs\"\n",
      "print \"Wrote\", write_vcf(others_only ,\"not_4751.vcf\"), \"recs\""
     ],
     "language": "python",
     "metadata": {},
     "outputs": [
      {
       "output_type": "stream",
       "stream": "stdout",
       "text": [
        "Wrote "
       ]
      },
      {
       "output_type": "stream",
       "stream": "stdout",
       "text": [
        "1064 recs\n",
        "Wrote "
       ]
      },
      {
       "output_type": "stream",
       "stream": "stdout",
       "text": [
        "11559 recs\n"
       ]
      }
     ],
     "prompt_number": 19
    },
    {
     "cell_type": "markdown",
     "metadata": {},
     "source": [
      "`bedtools` can then calculate the inter-site distances. Since it will add these distances as the last column of the outputted files we will use `cut` to store just these numbers. (Sites with no neighbouring sites on the same contig will be returned as -1, we will just skip over these sites below):"
     ]
    },
    {
     "cell_type": "code",
     "collapsed": false,
     "input": [
      "d_unique = ! bedtools closest -d -io -a unique_4751.vcf -b unique_4751.vcf | cut -f 39\n",
      "d_others = ! bedtools closest -d -io -a not_4751.vcf -b not_4751.vcf | cut -f 39\n",
      "d_between = ! bedtools closest -d  -a not_4751.vcf -b unique_4751.vcf | cut -f 39\n",
      "d_summary = np.array(\n",
      " [ np.fromiter( (int(i) for i in x if i), np.int32) for x in [d_unique, d_others, d_between] ]\n",
      ")"
     ],
     "language": "python",
     "metadata": {},
     "outputs": [],
     "prompt_number": 20
    },
    {
     "cell_type": "markdown",
     "metadata": {},
     "source": [
      "As a result of the above commands `d_summary` is now a list with three elements. Those elements are `numpy` arrays, the first two containing the smallest inter-site distances _within_ the two class of \"47 51 unique\" sites, and the third containing the same for sites _between_ classes.\n",
      "\n",
      "We can now compare the distribution of these distances"
     ]
    },
    {
     "cell_type": "code",
     "collapsed": false,
     "input": [
      "figure()\n",
      "boxplot(d_summary)\n",
      "show()"
     ],
     "language": "python",
     "metadata": {},
     "outputs": [
      {
       "metadata": {},
       "output_type": "display_data",
       "png": "[encoded data removed]",
       "text": [
        "<matplotlib.figure.Figure at 0x7f3831361590>"
       ]
      }
     ],
     "prompt_number": 21
    },
    {
     "cell_type": "markdown",
     "metadata": {},
     "source": [
      "Clearly, the sites that fit into one of these classes are likely to be close to another one. That same pattern doesn't apply to sites in different classes\n",
      "\n",
      "The median distance between sites of the same class is tiny (2 or 3) and 80--90% of sites in a given class are within 50 bases of another site in the same class. Given our sequencing reads are 100 base pairs long it seems like these derived-alleles are on the same DNA molecule:"
     ]
    },
    {
     "cell_type": "code",
     "collapsed": false,
     "input": [
      "[median(x) for x in d_summary]"
     ],
     "language": "python",
     "metadata": {},
     "outputs": [
      {
       "metadata": {},
       "output_type": "pyout",
       "prompt_number": 22,
       "text": [
        "[3.0, 2.0, 100269.0]"
       ]
      }
     ],
     "prompt_number": 22
    },
    {
     "cell_type": "code",
     "collapsed": false,
     "input": [
      "[round(mean(x <= 50),3) for x in d_summary]"
     ],
     "language": "python",
     "metadata": {},
     "outputs": [
      {
       "metadata": {},
       "output_type": "pyout",
       "prompt_number": 23,
       "text": [
        "[0.833, 0.877, 0.036]"
       ]
      }
     ],
     "prompt_number": 23
    },
    {
     "cell_type": "markdown",
     "metadata": {},
     "source": [
      "##Sites with derrived alleles in all samples other than 47 and 51 generally have low sequencing coverage\n",
      "\n",
      "Taken together, these results are starting to suggest a mis-mapping of reads is contributing to the difference between 47 and 51.  Sequencing coverage also contains information about mapping, so to investigate this pattern further we can look at coverage data from sites in each of the classes discussed above. \n",
      "\n",
      "`grand_cov_summary.csv` is a per-contig, per-sample summary of all the experimental data, which we generated during QA of this project. The important columns for here are `sample`, `chrom` and `median coverage`. From these data we can determine how much the coverage at a site differs from the normal level, while accounting for differences among samples and contigs:"
     ]
    },
    {
     "cell_type": "code",
     "collapsed": false,
     "input": [
      "covs = pd.DataFrame.from_csv(\"data/grand_cov_summary.csv\")\n",
      "covs.head()"
     ],
     "language": "python",
     "metadata": {},
     "outputs": [
      {
       "html": [
        "<div style=\"max-width:1500px;overflow:auto;\">\n",
        "<table border=\"1\" class=\"dataframe\">\n",
        "  <thead>\n",
        "    <tr style=\"text-align: right;\">\n",
        "      <th></th>\n",
        "      <th>len</th>\n",
        "      <th>n_mappable</th>\n",
        "      <th>sample</th>\n",
        "      <th>median_coverage</th>\n",
        "      <th>variance</th>\n",
        "      <th>p.uncovered</th>\n",
        "      <th>n.telomeres</th>\n",
        "      <th>mean_cov</th>\n",
        "      <th>high_cov</th>\n",
        "      <th>weird</th>\n",
        "    </tr>\n",
        "    <tr>\n",
        "      <th>chrom</th>\n",
        "      <th></th>\n",
        "      <th></th>\n",
        "      <th></th>\n",
        "      <th></th>\n",
        "      <th></th>\n",
        "      <th></th>\n",
        "      <th></th>\n",
        "      <th></th>\n",
        "      <th></th>\n",
        "      <th></th>\n",
        "    </tr>\n",
        "  </thead>\n",
        "  <tbody>\n",
        "    <tr>\n",
        "      <th>scf_8253803</th>\n",
        "      <td>8327</td>\n",
        "      <td>1238</td>\n",
        "      <td>TtM0</td>\n",
        "      <td>0</td>\n",
        "      <td>380.85170</td>\n",
        "      <td>0.675945</td>\n",
        "      <td>0</td>\n",
        "      <td>0</td>\n",
        "      <td>False</td>\n",
        "      <td>False</td>\n",
        "    </tr>\n",
        "    <tr>\n",
        "      <th>scf_8253803</th>\n",
        "      <td>8327</td>\n",
        "      <td>1238</td>\n",
        "      <td>TtM51</td>\n",
        "      <td>0</td>\n",
        "      <td>104.93690</td>\n",
        "      <td>0.568980</td>\n",
        "      <td>0</td>\n",
        "      <td>0</td>\n",
        "      <td>False</td>\n",
        "      <td>True</td>\n",
        "    </tr>\n",
        "    <tr>\n",
        "      <th>scf_8253803</th>\n",
        "      <td>8327</td>\n",
        "      <td>1238</td>\n",
        "      <td>TtM29</td>\n",
        "      <td>0</td>\n",
        "      <td>55.87656</td>\n",
        "      <td>0.644706</td>\n",
        "      <td>0</td>\n",
        "      <td>0</td>\n",
        "      <td>False</td>\n",
        "      <td>False</td>\n",
        "    </tr>\n",
        "    <tr>\n",
        "      <th>scf_8253803</th>\n",
        "      <td>8327</td>\n",
        "      <td>1238</td>\n",
        "      <td>TtM19</td>\n",
        "      <td>0</td>\n",
        "      <td>129.43970</td>\n",
        "      <td>0.571047</td>\n",
        "      <td>0</td>\n",
        "      <td>0</td>\n",
        "      <td>False</td>\n",
        "      <td>False</td>\n",
        "    </tr>\n",
        "    <tr>\n",
        "      <th>scf_8253803</th>\n",
        "      <td>8327</td>\n",
        "      <td>1238</td>\n",
        "      <td>TtM50</td>\n",
        "      <td>0</td>\n",
        "      <td>505.90310</td>\n",
        "      <td>0.755439</td>\n",
        "      <td>0</td>\n",
        "      <td>0</td>\n",
        "      <td>False</td>\n",
        "      <td>False</td>\n",
        "    </tr>\n",
        "  </tbody>\n",
        "</table>\n",
        "</div>"
       ],
       "metadata": {},
       "output_type": "pyout",
       "prompt_number": 24,
       "text": [
        "              len  n_mappable sample  median_coverage   variance  p.uncovered  \\\n",
        "chrom                                                                           \n",
        "scf_8253803  8327        1238   TtM0                0  380.85170     0.675945   \n",
        "scf_8253803  8327        1238  TtM51                0  104.93690     0.568980   \n",
        "scf_8253803  8327        1238  TtM29                0   55.87656     0.644706   \n",
        "scf_8253803  8327        1238  TtM19                0  129.43970     0.571047   \n",
        "scf_8253803  8327        1238  TtM50                0  505.90310     0.755439   \n",
        "\n",
        "             n.telomeres  mean_cov high_cov  weird  \n",
        "chrom                                               \n",
        "scf_8253803            0         0    False  False  \n",
        "scf_8253803            0         0    False   True  \n",
        "scf_8253803            0         0    False  False  \n",
        "scf_8253803            0         0    False  False  \n",
        "scf_8253803            0         0    False  False  "
       ]
      }
     ],
     "prompt_number": 24
    },
    {
     "cell_type": "markdown",
     "metadata": {},
     "source": [
      "We can use this data to create a (nested) dictionary that allows us to retreive the median coverage of each contig in the reference genome for every sample:"
     ]
    },
    {
     "cell_type": "code",
     "collapsed": false,
     "input": [
      "coverage_dictionary = defaultdict(lambda: defaultdict(dict))\n",
      "for chrom, details in covs.iterrows():\n",
      "    coverage_dictionary[ details[\"sample\"] ][ chrom ] = details[\"median_coverage\"]\n",
      "\n",
      "coverage_dictionary[\"TtM50\"][\"scf_8253803\"]"
     ],
     "language": "python",
     "metadata": {},
     "outputs": [
      {
       "metadata": {},
       "output_type": "pyout",
       "prompt_number": 25,
       "text": [
        "0.0"
       ]
      }
     ],
     "prompt_number": 25
    },
    {
     "cell_type": "markdown",
     "metadata": {},
     "source": [
      "... and we can use that data to compare the coverage at a given site to the \"normal\" coverage for that sample in that contig. Specifically, we can generate log2 fold differences so that +1.0 is a doubling of the normal overage and -1.0 is a halving:"
     ]
    },
    {
     "cell_type": "code",
     "collapsed": false,
     "input": [
      "def cov_fold_diff(s, median, eps=0.01):\n",
      "    if s.data.DP:\n",
      "        if median > 0:\n",
      "            return  np.log2(float(s.data.DP)/ median)\n",
      "        else:\n",
      "            #return np.log2(float(s.data.DP)/eps)\n",
      "            return np.nan\n",
      "    \n",
      "    if median > 0:\n",
      "        #return np.log2(eps/median)\n",
      "        return np.nan\n",
      "    return 0.0\n",
      "    \n",
      "def extract_cov_folds(r, cov_dict = coverage_dictionary):\n",
      "    return np.array([cov_fold_diff(s, cov_dict[s.sample][r.CHROM]) for s in r.samples ])\n",
      "        "
     ],
     "language": "python",
     "metadata": {},
     "outputs": [],
     "prompt_number": 26
    },
    {
     "cell_type": "markdown",
     "metadata": {},
     "source": [
      "Finally we can compare the distribution of coverage differnces across sites:"
     ]
    },
    {
     "cell_type": "code",
     "collapsed": false,
     "input": [
      "def mask_nans(arr):\n",
      "    \"\"\"\n",
      "    Turn a 2D array including NaNs values into a list of lists, with each \n",
      "    one with alll of the non-NaN for a sub-array. \n",
      "    \n",
      "    matplotlib boxplot no longer accepts NaNs, Nones or masked arrays. \n",
      "    In order to produce a boxplot, we need to extract only those values \n",
      "    that are not NaNs for each sample. In turn, that means each sample \n",
      "    will have a different number of valid observations. This means the values\n",
      "    can no longer be store in arrays (where each element must have the same \n",
      "    dimension). Taken togetheher, this means converting the arrays of coverage \n",
      "    differences into a list of lists.\n",
      "    \"\"\"\n",
      "    return [[obs for obs in row if obs] for row in ma.masked_invalid(arr.T)]\n",
      "\n",
      "    \n",
      "cov_diff_u = np.array([extract_cov_folds(r) for r in l47_51_only])\n",
      "cov_diff_o = np.array([extract_cov_folds(r) for r in others_only])\n",
      "\n",
      "cv = [\"#9ecae1\" if s in [\"TtM47\", \"TtM51\"] else \"#084594\" for s in sample_names]\n",
      "\n",
      "fig, ax = subplots(figsize=(12,5))\n",
      "ax.xaxis.set_visible(False)\n",
      "ax.yaxis.set_visible(False)\n",
      "\n",
      "fig.add_subplot(121)\n",
      "title(\"Sites where only 47 and 51 have derived alleles\")\n",
      "bplot = boxplot(mask_nans(cov_diff_u), patch_artist=True)\n",
      "for patch, col in zip(bplot['boxes'], cv):\n",
      "    patch.set_facecolor(col)\n",
      "\n",
      "fig.add_subplot(122)\n",
      "title(\"Sites where all sites other than 47 and 51 have derived alleles\")\n",
      "bplot = boxplot(mask_nans(cov_diff_o), patch_artist=True)\n",
      "for patch, col in zip(bplot['boxes'], cv):\n",
      "    patch.set_facecolor(col)\n",
      "fig.tight_layout()\n",
      "show()"
     ],
     "language": "python",
     "metadata": {},
     "outputs": [
      {
       "metadata": {},
       "output_type": "display_data",
       "png": "[encoded data removed]",
       "text": [
        "<matplotlib.figure.Figure at 0x7f382ca5b0d0>"
       ]
      }
     ],
     "prompt_number": 27
    },
    {
     "cell_type": "markdown",
     "metadata": {},
     "source": [
      "The second plot is particularly striking - sites at which lines other than 47 and 51 always have derived alleles generally have lower coverage. All samples have a large number of outliers, suggested these sites may also include copy-number variants or paralagous sequences that produce mapping errors."
     ]
    },
    {
     "cell_type": "markdown",
     "metadata": {},
     "source": [
      "#Conclusion"
     ]
    },
    {
     "cell_type": "markdown",
     "metadata": {},
     "source": [
      "It is overwhelming  clear that lines 47 and 51 systematically differ from all others . These two samples have a consistent pattern of derived-allele frequencies that makes them different than all other samples. There are thousands of sites at which these samples are either (a) unique for containing derived alleles or (b) unique for lacking derived alleles.Sites matching these patterns occur all over the genome, but fall into distinct clusters. Finally, it seems sites for which every sample other than 47 and 51 have derived alleles have unusually low sequencing coverage. \n",
      "\n",
      "Why these two samples differ from others is less clear. It is possible that the sequencing libraries produced from these two lines, and noy others, contain a high proportion of usually MIC-limited sequences which in turn has led to systematic differences in the way reads have been mapped to the reference genome. A test of this or other hypotheses that might explain these patterns is beyond the scope of the present work.\n",
      " \n",
      "Whatever the cause of this pattern, it's clear that these samples are systematically different from others. Because we cannot say precisely what process has generated this difference it is not possible to control for it, or incorporate this process into our mutation calling model. Moreover, it is impossible for us to tell whether putative mutations in these lines are indeed true mutations accrued during our MA experiment, or simply products of the same aberration that has influenced data at other sites. For this reason we exclude these lines in all of mutation rate estimates. "
     ]
    }
   ],
   "metadata": {}
  }
 ]
}