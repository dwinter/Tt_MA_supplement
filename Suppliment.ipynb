{
 "metadata": {
  "name": "",
  "signature": "sha256:ec72967a047466f7932798f962560ead1858b782fa7234b6aaf7a585c1484103"
 },
 "nbformat": 3,
 "nbformat_minor": 0,
 "worksheets": [
  {
   "cells": [
    {
     "cell_type": "code",
     "collapsed": false,
     "input": [
      "#Clear the namespace, and IMPORT ALL THE THINGS\n",
      "%reset -f\n",
      "\n",
      "import itertools\n",
      "from collections import defaultdict\n",
      "\n",
      "import vcf\n",
      "\n",
      "from scipy import cluster\n",
      "from scipy import spatial\n",
      "from scipy.misc import comb\n",
      "\n",
      "import pandas as pd\n",
      "\n",
      "import Bio\n",
      "from Bio import SeqIO\n",
      "%pylab inline\n",
      "\n",
      "print \"_______Versions_______\"\n",
      "print vcf.VERSION\n",
      "print pd.__version__\n",
      "print Bio.__version__\n",
      "! bedtools --version\n",
      "\n",
      "#Make plots a bit bigger than the defaul\n",
      "\n",
      "import matplotlib.pylab as pylab\n",
      "pylab.rcParams['figure.figsize'] = 8, 5"
     ],
     "language": "python",
     "metadata": {},
     "outputs": [
      {
       "output_type": "stream",
       "stream": "stdout",
       "text": [
        "Populating the interactive namespace from numpy and matplotlib\n",
        "_______Versions_______\n",
        "0.6.7\n",
        "0.13.1\n",
        "1.63\n",
        "bedtools v2.18.2-56-gb5e5070\r\n"
       ]
      }
     ],
     "prompt_number": 34
    },
    {
     "cell_type": "markdown",
     "metadata": {},
     "source": [
      "#Lines 47 and 51 are unusual"
     ]
    },
    {
     "cell_type": "markdown",
     "metadata": {},
     "source": [
      "In the course of analysing the _Tetrahymena_ MA experiment we noticed a strange pattern.\n",
      "\n",
      "A large number of apparent-mutations are shared by lines 47 and 51 (i.e. the same nucleotide substituion is present in both lines and absent from all others). Our \"post processing\" utility prints out read count matrices for such sites, here is a typical example of a \"double mutant\". Here each row represents the number of A,C,G and T bases mapped to this site in a given sample:\n",
      "```\n",
      "Skipping scf_8254582    675126\n",
      "        A       C       G       T\n",
      "TtM0    0       78      0       0       \n",
      "TtM19   0       59      0       0       \n",
      "TtM20   0       30      0       0       \n",
      "TtM28   1       80      0       0       \n",
      "TtM25   2       44      0       0       \n",
      "TtM29   0       30      0       0       \n",
      "TtM40   0       19      0       0       \n",
      "TtM44   0       170     0       0       \n",
      "TtM47   46      18      0       0       \n",
      "TtM50   0       172     0       0       \n",
      "TtM51   42      0       0       0       \n",
      "TtM531  0       83      0       0 \n",
      "```\n",
      "\n",
      "This is  typical in that one sample (47) has a minor portion of reads matching the ancestral (M0) allele while the rest match the apprent-mutant in 47."
     ]
    },
    {
     "cell_type": "markdown",
     "metadata": {},
     "source": [
      "##These lines have similar derrived frequencies"
     ]
    },
    {
     "cell_type": "markdown",
     "metadata": {},
     "source": [
      "We first want to test of this pattern extends beyond the small number of sites with putative mutations. Do to this, we callled variants from the experimental data using `gatk UnifiedGenotyper`. To properly capture the \"mixed\" genotypes described for line 47 above, we treated each sample as diploid:\n",
      "```bash\n",
      "gatk -R ../reference/ref/tt-ref.fasta -T UnifiedGenotyper \\\n",
      "                                      -I /storage/tt/pilot_data/bam/tt-recal.bam \\ #reads are [SRA IDS]\n",
      "                                      -o desc_diploid_calls.vcf --sample_ploidy 2 -nct 4 -nt 8\n",
      "\n",
      "```\n",
      "This procducre calls all putative variants from the experimental data. Thus, the resultant `vcf` will have putatively heterozygous sites from the ancetstral strain and artifacts produced from misalignment of reads tp paralagous regions. Thus there will be many more apparent-variants produced that real mutations, allowing us to more closely examine these apparent shared mutations. There are more than 80 000 such sites in our experiment:"
     ]
    },
    {
     "cell_type": "code",
     "collapsed": false,
     "input": [
      "#remove monomorphic non-reference alleles. Load results in list so we can pass over them multipple times\n",
      "snps = [r for r in vcf.Reader(filename=\"data/desc_diploid_calls.vcf\")]\n",
      "len(snps)"
     ],
     "language": "python",
     "metadata": {},
     "outputs": [
      {
       "metadata": {},
       "output_type": "pyout",
       "prompt_number": 35,
       "text": [
        "84530"
       ]
      }
     ],
     "prompt_number": 35
    },
    {
     "cell_type": "markdown",
     "metadata": {},
     "source": [
      "We are looking among-sample patterns in the reads mapped to each site. One way to investige this is to extracted the frequence of non-reference (derrived) alleles at each of the variant sites. Some functions to extract this information from a `vcf` record:"
     ]
    },
    {
     "cell_type": "code",
     "collapsed": false,
     "input": [
      "def get_sample_daf(s):    \n",
      "    if s.data.AD != None:\n",
      "        return sum(s.data.AD[1:])/float(s.data.DP)\n",
      "    return 0.0\n",
      "\n",
      "def get_daf(rec):\n",
      "    return np.fromiter( (get_sample_daf(s) for s in rec.samples), np.float64 )"
     ],
     "language": "python",
     "metadata": {},
     "outputs": [],
     "prompt_number": 36
    },
    {
     "cell_type": "markdown",
     "metadata": {},
     "source": [
      "We can use these functions to collect the derrived allele frequency for each sample at each site..."
     ]
    },
    {
     "cell_type": "code",
     "collapsed": false,
     "input": [
      "daf_matrix = np.array([get_daf(r) for r in snps])"
     ],
     "language": "python",
     "metadata": {},
     "outputs": [],
     "prompt_number": 37
    },
    {
     "cell_type": "markdown",
     "metadata": {},
     "source": [
      "... which we can then use to generate a distane matrix and cluster the samples based on how similar their derrived allele frequencies are. There is clearly someting very different about lines 47 and 51, which much more similar too each other than any other two-sample pairing, and form a distinct cluster considerably distant from all others:"
     ]
    },
    {
     "cell_type": "code",
     "collapsed": false,
     "input": [
      "sample_names = [s.sample for s in snps[0].samples]\n",
      "dm = spatial.distance.pdist(np.transpose(daf_matrix))\n",
      "tree = cluster.hierarchy.dendrogram( cluster.hierarchy.linkage(dm), labels=sample_names, leaf_rotation =45)"
     ],
     "language": "python",
     "metadata": {},
     "outputs": [
      {
       "metadata": {},
       "output_type": "display_data",
       "png": "[encoded data removed]",
       "text": [
        "<matplotlib.figure.Figure at 0x7f04d994b450>"
       ]
      }
     ],
     "prompt_number": 38
    },
    {
     "cell_type": "markdown",
     "metadata": {},
     "source": [
      "##A large number of \"messy\" sites are clean in lines 47 and 51\n",
      "Perhaps suprisingly, much of this difference comes about because of \"messy\" sites that have derrived alleles in every samples _but_ lines 47 and 51. This leads to a lower mean DAF across all sites and  fewer sites with any derrived alleles:"
     ]
    },
    {
     "cell_type": "code",
     "collapsed": false,
     "input": [
      "mask_47_51 = np.array([x in [\"TtM47\", \"TtM51\"] for x in sample_names])\n",
      "cv =[ \"#1f78b4\"if x else\"#a6cee3\"for x in mask_47_51]\n",
      "figure()\n",
      "bar(np.arange(10), np.sum(daf_matrix > 0, 0), color=cv)\n",
      "show()"
     ],
     "language": "python",
     "metadata": {},
     "outputs": [
      {
       "metadata": {},
       "output_type": "display_data",
       "png": "[encoded data removed]",
       "text": [
        "<matplotlib.figure.Figure at 0x7f04d9904c10>"
       ]
      }
     ],
     "prompt_number": 39
    },
    {
     "cell_type": "markdown",
     "metadata": {},
     "source": [
      "This pattern is not simply the result of many sites being \"fixed\" for a non-reference allele in sites other than 47 and 51. Rather, most sites a derrived alleles are rare in almost all of these sites:"
     ]
    },
    {
     "cell_type": "code",
     "collapsed": false,
     "input": [
      "ramp = ['#3182bd', '#6baed6','#bdd7e7','#eff3ff'] #colourbrewer Blue5\n",
      "cuts = [1e-9, 0.25, 0.5, 0.9,  1.0]\n",
      "bins = np.array([counts for counts,edges in [np.histogram(x, bins=cuts) for x in np.transpose(daf_matrix)]]).transpose()\n",
      "start = np.sum(daf_matrix == 0,0)\n",
      "f = figure(figsize=(8,5))\n",
      "ax = f.add_subplot(111)\n",
      "p = bar(np.arange(10), start, color='#08519c',)\n",
      "legends = [p[0]]\n",
      "for i,c in enumerate(bins):\n",
      "    p =  bar(np.arange(10), c, color=ramp[i], bottom=start)\n",
      "    start += c\n",
      "    legends.append(p[0])\n",
      "    \n",
      "legend(legends, \n",
      "       [\"0\", \"(0-0.25)\", \"[0.25-0.5)\", \"[0.5.0.9)\", \"[0.9-1]\"],\n",
      "       bbox_to_anchor=(1.4, 0.7),\n",
      "       title= \"Derrived allele frequency\")\n",
      "ax.set_xticks(np.arange(10))\n",
      "ax.set_xticklabels(sample_names, rotation=45)\n",
      "show()"
     ],
     "language": "python",
     "metadata": {},
     "outputs": [
      {
       "metadata": {},
       "output_type": "display_data",
       "png": "[encoded data removed]",
       "text": [
        "<matplotlib.figure.Figure at 0x7f04d98db610>"
       ]
      }
     ],
     "prompt_number": 40
    },
    {
     "cell_type": "markdown",
     "metadata": {},
     "source": [
      "##Lines 47 and 51 also exclusively share derrived alleles at many sites \n",
      "\n",
      "Although some of the similarity btween lines 47 and 51 can be explained by these lines lacking derrived alleles that are present in all other lines, there are also a good number of sites where _only_ these lines ahve derrived alleles:\n",
      "\n",
      "`mask_47_51` was defined earlier, an is just an array that is `True` for data from 47 and 51 and `False` otherwise. There are almost 1000 sites with derrived alleles in both 47 and 51, but not in any other sample:"
     ]
    },
    {
     "cell_type": "code",
     "collapsed": false,
     "input": [
      "sum( [(np.all(x[mask_47_51]) > 0 and np.sum(x[~ mask_47_51]) == 0) for x in daf_matrix] )"
     ],
     "language": "python",
     "metadata": {},
     "outputs": [
      {
       "metadata": {},
       "output_type": "pyout",
       "prompt_number": 41,
       "text": [
        "934"
       ]
      }
     ],
     "prompt_number": 41
    },
    {
     "cell_type": "markdown",
     "metadata": {},
     "source": [
      "We can see how unsual this is by performing the same calculation for all possible 2-sample combinations. When the resulting distribution is plotted it is clear that lines 47 and 51 are outliers:"
     ]
    },
    {
     "cell_type": "code",
     "collapsed": false,
     "input": [
      "all_false  = np.zeros(10, dtype=np.bool)\n",
      "all_duos = []\n",
      "for i,j in itertools.combinations(range(10),2):\n",
      "    new = np.copy(all_false)\n",
      "    new[i] = True\n",
      "    new[j] = True\n",
      "    all_duos.append( sum( [(np.all(x[new]) > 0 and np.sum(x[~new]) == 0) for x in daf_matrix] ) )\n"
     ],
     "language": "python",
     "metadata": {},
     "outputs": [],
     "prompt_number": 42
    },
    {
     "cell_type": "code",
     "collapsed": false,
     "input": [
      "fig, ax = subplots()\n",
      "boxplot(all_duos)\n",
      "ax.annotate(\"47-51\", xy=(1,934), xytext=(1,850))\n",
      "show()"
     ],
     "language": "python",
     "metadata": {},
     "outputs": [
      {
       "metadata": {},
       "output_type": "display_data",
       "png": "[encoded data removed]",
       "text": [
        "<matplotlib.figure.Figure at 0x7f04d986f3d0>"
       ]
      }
     ],
     "prompt_number": 43
    },
    {
     "cell_type": "markdown",
     "metadata": {},
     "source": [
      "##Sites at which m47 and m51 differ in this way are spread across the genome...\n",
      "To help understand what is going on with these site, we can look at their distribution across the reference genome. The _Tt_ reference genome is still a draft, with many short contigs, so a statistic like \"sites per 100kb\" isn't very helpful. Instead, we plot the rank order of sites with their position in the genome. If sites are even distributed we'd expect an approcimately straight line.\n",
      "\n",
      "That's about what we see for both sites that derrived allele in 47 and 51 but not other lines, and sites that have derrived alleles in all lines other than 47 and 51 but not these two lines"
     ]
    },
    {
     "cell_type": "code",
     "collapsed": false,
     "input": [
      "#First identify sites matching each pattern\n",
      "def derrived_alleles_unique(rec, mask):\n",
      "    daf = get_daf(rec)\n",
      "    if np.all(daf[mask] > 0):\n",
      "        return sum(daf[~mask]) == 0\n",
      "    return False\n",
      "\n",
      "l47_51_only = [ r for r in snps if derrived_alleles_unique(r, mask_47_51)] \n",
      "others_only = [ r for r in snps if derrived_alleles_unique(r, ~mask_47_51)] "
     ],
     "language": "python",
     "metadata": {},
     "outputs": [],
     "prompt_number": 44
    },
    {
     "cell_type": "code",
     "collapsed": false,
     "input": [
      "#Now create a dictionary of chormosomes lengths from the reference genome\n",
      "total_len = 0\n",
      "seq_dict = {}\n",
      "for rec in SeqIO.parse(\"../ref/tt-ref.fasta\", \"fasta\"):\n",
      "    seq_len = len(rec)\n",
      "    seq_dict[rec.id] = (total_len, seq_len)\n",
      "    total_len += seq_len\n",
      "\n"
     ],
     "language": "python",
     "metadata": {},
     "outputs": [],
     "prompt_number": 45
    },
    {
     "cell_type": "code",
     "collapsed": false,
     "input": [
      "fig, ax = subplots(figsize=(8,7))\n",
      "ylabel(\"Position across genome\")\n",
      "xlabel(\"Rank order of mutation\")\n",
      "\n",
      "fig.add_subplot(211)\n",
      "plot([seq_dict[r.CHROM][0] + r.POS for r in l47_51_only])\n",
      "title(\"Unique to 47 and 51\")\n",
      "axhline(total_len, color=\"grey\")\n",
      "\n",
      "fig.add_subplot(212)\n",
      "plot([seq_dict[r.CHROM][0] + r.POS for r in others_only ])\n",
      "title(\"Shared by all samples other than 47 and 51\")\n",
      "axhline(total_len, color=\"grey\")\n",
      "fig.tight_layout()\n",
      "show()"
     ],
     "language": "python",
     "metadata": {},
     "outputs": [
      {
       "metadata": {},
       "output_type": "display_data",
       "png": "[encoded data removed]",
       "text": [
        "<matplotlib.figure.Figure at 0x7f04d9898850>"
       ]
      }
     ],
     "prompt_number": 46
    },
    {
     "cell_type": "markdown",
     "metadata": {},
     "source": [
      "Sites where all samples other than 47 and 51 have at least one derrived allele are well distributed across the genome. Sites that have derrived alleles in 47 and 51 only are a un-evenly distributed. We can also determine how many contigs have this pattern in at least one site, and what proportion of the reference genome is contained in those chromosomes:"
     ]
    },
    {
     "cell_type": "code",
     "collapsed": false,
     "input": [
      "chroms_with_4751 = set([(r.CHROM, seq_dict[r.CHROM][1]) for r in l47_51_only])\n",
      "len(chroms_with_4751), sum([j for i,j in chroms_with_4751])/float(total_len)\n"
     ],
     "language": "python",
     "metadata": {},
     "outputs": [
      {
       "metadata": {},
       "output_type": "pyout",
       "prompt_number": 47,
       "text": [
        "(117, 0.25670687729638403)"
       ]
      }
     ],
     "prompt_number": 47
    },
    {
     "cell_type": "code",
     "collapsed": false,
     "input": [
      "chroms_with_others = set([(r.CHROM, seq_dict[r.CHROM][1]) for r in others_only])\n",
      "len(chroms_with_others), sum([j for i,j in chroms_with_others])/float(total_len)"
     ],
     "language": "python",
     "metadata": {},
     "outputs": [
      {
       "metadata": {},
       "output_type": "pyout",
       "prompt_number": 48,
       "text": [
        "(473, 0.96683022612478475)"
       ]
      }
     ],
     "prompt_number": 48
    },
    {
     "cell_type": "markdown",
     "metadata": {},
     "source": [
      "##...but cluster together\n",
      "\n",
      "To look at how close sites matching eiter pattern are to each other we will use `bedtools`, so we need to first write out new vcf files. We are going to write files for each \"class\" of sites (those that have derrived alleles in _only_ line 47 and 51, and those that have derrived alleles in all other samples but not these two):"
     ]
    },
    {
     "cell_type": "code",
     "collapsed": false,
     "input": [
      "def write_vcf(recs, fname, template=vcf.Reader(filename=\"data/desc_diploid_calls.vcf\")):\n",
      "    with(open(fname, \"w\")) as out:\n",
      "        vcf_out = vcf.Writer(out,template )\n",
      "        counter = 0\n",
      "        for r in recs:\n",
      "            vcf_out.write_record(r)\n",
      "            counter += 1\n",
      "    return counter\n",
      "\n",
      "print \"Wrote\", write_vcf(l47_51_only ,\"unique_4751.vcf\"), \"recs\"\n",
      "print \"Wrote\", write_vcf(others_only ,\"not_4751.vcf\"), \"recs\""
     ],
     "language": "python",
     "metadata": {},
     "outputs": [
      {
       "output_type": "stream",
       "stream": "stdout",
       "text": [
        "Wrote "
       ]
      },
      {
       "output_type": "stream",
       "stream": "stdout",
       "text": [
        "934 recs\n",
        "Wrote "
       ]
      },
      {
       "output_type": "stream",
       "stream": "stdout",
       "text": [
        "16927 recs\n"
       ]
      }
     ],
     "prompt_number": 49
    },
    {
     "cell_type": "markdown",
     "metadata": {},
     "source": [
      "... and use bedtools to calculate teh inter-site distances (which it adds as a final column, which we store via `cut`):"
     ]
    },
    {
     "cell_type": "code",
     "collapsed": false,
     "input": [
      "d_unique = ! bedtools closest -d -io -a unique_4751.vcf -b unique_4751.vcf | cut -f 39\n",
      "d_others = ! bedtools closest -d -io -a not_4751.vcf -b not_4751.vcf | cut -f 39\n",
      "d_between = ! bedtools closest -d  -a not_4751.vcf -b unique_4751.vcf | cut -f 39\n",
      "d_summary = np.array([ np.fromiter( (int(i) for i in x if i), np.int32) for x in [d_unique, d_others, d_between] ])"
     ],
     "language": "python",
     "metadata": {},
     "outputs": [],
     "prompt_number": 50
    },
    {
     "cell_type": "markdown",
     "metadata": {},
     "source": [
      "Each of those commands gives a list with one entry per site, giving the distance to the nearest site in the same class (or in the last case, the nearest site in the other class). Sites with no neighbours on the same contig will be empty strings, so will ignore them. \n",
      "\n",
      "That gives us the change to compare the distribution between sites in the same class (the first two boxes) and those in different classes (the thrid): "
     ]
    },
    {
     "cell_type": "code",
     "collapsed": false,
     "input": [
      "figure()\n",
      "boxplot(d_summary)\n",
      "show()"
     ],
     "language": "python",
     "metadata": {},
     "outputs": [
      {
       "metadata": {},
       "output_type": "display_data",
       "png": "[encoded data removed]",
       "text": [
        "<matplotlib.figure.Figure at 0x7f04d988cb50>"
       ]
      }
     ],
     "prompt_number": 51
    },
    {
     "cell_type": "markdown",
     "metadata": {},
     "source": [
      "Clearly, the sites that fit into one of these classes are likely to be close to another one. That same pattern doesn't apply to sites in different classes. Indeed, 80--90% of sites in a given class are within 50 bases of another site in teh same calss (and so likely to be on the same sequencing read) :"
     ]
    },
    {
     "cell_type": "code",
     "collapsed": false,
     "input": [
      "[median(x) for x in d_summary]"
     ],
     "language": "python",
     "metadata": {},
     "outputs": [
      {
       "metadata": {},
       "output_type": "pyout",
       "prompt_number": 52,
       "text": [
        "[3.0, 2.0, 117090.5]"
       ]
      }
     ],
     "prompt_number": 52
    },
    {
     "cell_type": "code",
     "collapsed": false,
     "input": [
      "[round(mean(x <= 50),3) for x in d_summary]"
     ],
     "language": "python",
     "metadata": {},
     "outputs": [
      {
       "metadata": {},
       "output_type": "pyout",
       "prompt_number": 53,
       "text": [
        "[0.815, 0.91, 0.038]"
       ]
      }
     ],
     "prompt_number": 53
    },
    {
     "cell_type": "markdown",
     "metadata": {},
     "source": [
      "##Sites with derrived alleles in all samples other than 47 and 51 generally have low sequencing coverage\n",
      "\n",
      "The pattern of reads uniquely having or lacking non-reference alleles coming in clusters suggests some reads may being mis-mapped. To investigate this possibility we can look at the sequencing coverage of sites in each of the classes discussed above. `grand_cov_summary.csv` is a per-chromoosome, per-sample summary of all teh experimental data, which we generated during QA of this project:"
     ]
    },
    {
     "cell_type": "code",
     "collapsed": false,
     "input": [
      "covs = pd.DataFrame.from_csv(\"data/grand_cov_summary.csv\")\n",
      "covs.head()"
     ],
     "language": "python",
     "metadata": {},
     "outputs": [
      {
       "html": [
        "<div style=\"max-height:1000px;max-width:1500px;overflow:auto;\">\n",
        "<table border=\"1\" class=\"dataframe\">\n",
        "  <thead>\n",
        "    <tr style=\"text-align: right;\">\n",
        "      <th></th>\n",
        "      <th>len</th>\n",
        "      <th>n_mappable</th>\n",
        "      <th>sample</th>\n",
        "      <th>median_coverage</th>\n",
        "      <th>variance</th>\n",
        "      <th>p.uncovered</th>\n",
        "      <th>n.telomeres</th>\n",
        "      <th>mean_cov</th>\n",
        "      <th>high_cov</th>\n",
        "      <th>weird</th>\n",
        "    </tr>\n",
        "    <tr>\n",
        "      <th>chrom</th>\n",
        "      <th></th>\n",
        "      <th></th>\n",
        "      <th></th>\n",
        "      <th></th>\n",
        "      <th></th>\n",
        "      <th></th>\n",
        "      <th></th>\n",
        "      <th></th>\n",
        "      <th></th>\n",
        "      <th></th>\n",
        "    </tr>\n",
        "  </thead>\n",
        "  <tbody>\n",
        "    <tr>\n",
        "      <th>scf_8253803</th>\n",
        "      <td> 8327</td>\n",
        "      <td> 1238</td>\n",
        "      <td>  TtM0</td>\n",
        "      <td> 0</td>\n",
        "      <td> 380.85170</td>\n",
        "      <td> 0.675945</td>\n",
        "      <td> 0</td>\n",
        "      <td> 0</td>\n",
        "      <td> False</td>\n",
        "      <td> False</td>\n",
        "    </tr>\n",
        "    <tr>\n",
        "      <th>scf_8253803</th>\n",
        "      <td> 8327</td>\n",
        "      <td> 1238</td>\n",
        "      <td> TtM51</td>\n",
        "      <td> 0</td>\n",
        "      <td> 104.93690</td>\n",
        "      <td> 0.568980</td>\n",
        "      <td> 0</td>\n",
        "      <td> 0</td>\n",
        "      <td> False</td>\n",
        "      <td>  True</td>\n",
        "    </tr>\n",
        "    <tr>\n",
        "      <th>scf_8253803</th>\n",
        "      <td> 8327</td>\n",
        "      <td> 1238</td>\n",
        "      <td> TtM29</td>\n",
        "      <td> 0</td>\n",
        "      <td>  55.87656</td>\n",
        "      <td> 0.644706</td>\n",
        "      <td> 0</td>\n",
        "      <td> 0</td>\n",
        "      <td> False</td>\n",
        "      <td> False</td>\n",
        "    </tr>\n",
        "    <tr>\n",
        "      <th>scf_8253803</th>\n",
        "      <td> 8327</td>\n",
        "      <td> 1238</td>\n",
        "      <td> TtM19</td>\n",
        "      <td> 0</td>\n",
        "      <td> 129.43970</td>\n",
        "      <td> 0.571047</td>\n",
        "      <td> 0</td>\n",
        "      <td> 0</td>\n",
        "      <td> False</td>\n",
        "      <td> False</td>\n",
        "    </tr>\n",
        "    <tr>\n",
        "      <th>scf_8253803</th>\n",
        "      <td> 8327</td>\n",
        "      <td> 1238</td>\n",
        "      <td> TtM50</td>\n",
        "      <td> 0</td>\n",
        "      <td> 505.90310</td>\n",
        "      <td> 0.755439</td>\n",
        "      <td> 0</td>\n",
        "      <td> 0</td>\n",
        "      <td> False</td>\n",
        "      <td> False</td>\n",
        "    </tr>\n",
        "  </tbody>\n",
        "</table>\n",
        "<p>5 rows \u00d7 10 columns</p>\n",
        "</div>"
       ],
       "metadata": {},
       "output_type": "pyout",
       "prompt_number": 54,
       "text": [
        "              len  n_mappable sample  median_coverage   variance  p.uncovered  \\\n",
        "chrom                                                                           \n",
        "scf_8253803  8327        1238   TtM0                0  380.85170     0.675945   \n",
        "scf_8253803  8327        1238  TtM51                0  104.93690     0.568980   \n",
        "scf_8253803  8327        1238  TtM29                0   55.87656     0.644706   \n",
        "scf_8253803  8327        1238  TtM19                0  129.43970     0.571047   \n",
        "scf_8253803  8327        1238  TtM50                0  505.90310     0.755439   \n",
        "\n",
        "             n.telomeres  mean_cov high_cov  weird  \n",
        "chrom                                               \n",
        "scf_8253803            0         0    False  False  \n",
        "scf_8253803            0         0    False   True  \n",
        "scf_8253803            0         0    False  False  \n",
        "scf_8253803            0         0    False  False  \n",
        "scf_8253803            0         0    False  False  \n",
        "\n",
        "[5 rows x 10 columns]"
       ]
      }
     ],
     "prompt_number": 54
    },
    {
     "cell_type": "markdown",
     "metadata": {},
     "source": [
      "We can use this data to create a (nested) dictionary that maps the median coverage of each contig in the reference genome for every sample:"
     ]
    },
    {
     "cell_type": "code",
     "collapsed": false,
     "input": [
      "coverage_dictionary = defaultdict(lambda: defaultdict(dict))\n",
      "for chrom, details in covs.iterrows():\n",
      "    coverage_dictionary[ details[\"sample\"] ][ chrom ] = details[\"median_coverage\"]\n",
      "\n",
      "coverage_dictionary[\"TtM50\"][\"scf_8253803\"]"
     ],
     "language": "python",
     "metadata": {},
     "outputs": [
      {
       "metadata": {},
       "output_type": "pyout",
       "prompt_number": 55,
       "text": [
        "0.0"
       ]
      }
     ],
     "prompt_number": 55
    },
    {
     "cell_type": "markdown",
     "metadata": {},
     "source": [
      "... and we can use that data to generate log2 fold differences in coverages for every site in each class. Remember, with log2 fold difference +1.0 is a doubling of the normal overage and -1.0 is a halving:"
     ]
    },
    {
     "cell_type": "code",
     "collapsed": false,
     "input": [
      "def cov_fold_diff(s,median, eps=0.01):\n",
      "    if s.data.DP:\n",
      "        if median > 0:\n",
      "            return  np.log2(float(s.data.DP)/ median)\n",
      "        else:\n",
      "            #return np.log2(float(s.data.DP)/eps)\n",
      "            return np.nan\n",
      "    \n",
      "    if median > 0:\n",
      "        #return np.log2(eps/median)\n",
      "        return np.nan\n",
      "    return 0.0\n",
      "    \n",
      "def extract_cov_folds(r, cov_dict = coverage_dictionary):\n",
      "    return np.array([cov_fold_diff(s, cov_dict[s.sample][r.CHROM]) for s in r.samples ])\n",
      "        "
     ],
     "language": "python",
     "metadata": {},
     "outputs": [],
     "prompt_number": 56
    },
    {
     "cell_type": "markdown",
     "metadata": {},
     "source": [
      "Finally we can compare the distribution of coverage differnces across sites:"
     ]
    },
    {
     "cell_type": "code",
     "collapsed": false,
     "input": [
      "cov_diff_u = np.array([extract_cov_folds(r) for r in l47_51_only])\n",
      "cov_diff_o = np.array([extract_cov_folds(r) for r in others_only])\n",
      "\n",
      "fig, ax = subplots(figsize=(12,5))\n",
      "ax.xaxis.set_visible(False)\n",
      "ax.yaxis.set_visible(False)\n",
      "\n",
      "fig.add_subplot(121)\n",
      "title(\"Sites where only 47 and 51 have derrived alleles\")\n",
      "bplot = boxplot(cov_diff_u, patch_artist=True)\n",
      "for patch, col in zip(bplot['boxes'], cv):\n",
      "    patch.set_facecolor(col)\n",
      "\n",
      "fig.add_subplot(122)\n",
      "title(\"Sites where all sites other than 47 and 51 have derrived alleles\")\n",
      "bplot = boxplot(cov_diff_o, patch_artist=True)\n",
      "for patch, col in zip(bplot['boxes'], cv):\n",
      "    patch.set_facecolor(col)\n",
      "fig.tight_layout()\n",
      "show()"
     ],
     "language": "python",
     "metadata": {},
     "outputs": [
      {
       "metadata": {},
       "output_type": "display_data",
       "png": "[encoded data removed]",
       "text": [
        "<matplotlib.figure.Figure at 0x7f04d98556d0>"
       ]
      }
     ],
     "prompt_number": 57
    },
    {
     "cell_type": "markdown",
     "metadata": {},
     "source": [
      "The second plot is particularly striking - sites at which lines other than 47 and 51 always have derrived alleles while generally have lower coverage. All samples have a large number of outliers, sugeested these sites may have copy-number variants or paralagous sequences."
     ]
    },
    {
     "cell_type": "markdown",
     "metadata": {},
     "source": [
      "#What does it all mean?"
     ]
    },
    {
     "cell_type": "markdown",
     "metadata": {},
     "source": [
      "It's pretty clear that something odd has happened to lines 47 and 51. They have a consistant pattern of derrived-alleles that makes them different than all other samples. There thousands of sites that for which either (a) these two lines have derrived alleles and while no others do or (b) every other samples does but not thest two. What ever process generated this pattern it applies across the whole genome, but sites with these patterns come in clusters. Finally, it seems sites for which every sample other than 47 and 51 have derrived alleles generall have unusually low sequencing coverage. \n",
      "\n",
      "All this seems to add up to reads being systematically mis-mapped in hard-to-align regions. Why this would systematically effect two samples is less clear, though it seems likely something about the GE process (perhaps the inclusion of usually MIC-limited sequences into the MAC?) has gone wrong in the same way in both of these lines. \n",
      "\n",
      "Whatever the cause of this pattern, it's clear that these samples are systematically biased in a way that makes it very difficult to find \"true\" mutations in this line. For this reason we exclude these samples from al mutation rate calculations.\n"
     ]
    },
    {
     "cell_type": "code",
     "collapsed": false,
     "input": [],
     "language": "python",
     "metadata": {},
     "outputs": [],
     "prompt_number": 57
    }
   ],
   "metadata": {}
  }
 ]
}